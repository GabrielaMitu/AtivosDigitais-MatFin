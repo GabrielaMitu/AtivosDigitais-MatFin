{
 "cells": [
  {
   "cell_type": "markdown",
   "metadata": {},
   "source": [
    "## Lista de Exercícios"
   ]
  },
  {
   "cell_type": "markdown",
   "metadata": {},
   "source": [
    "**Alunos:** Beatriz, Gabriela Mitu, Gabriella Cukier, Leonardo Malta"
   ]
  },
  {
   "cell_type": "markdown",
   "metadata": {},
   "source": [
    "## Bibliotecas"
   ]
  },
  {
   "cell_type": "code",
   "execution_count": 1,
   "metadata": {},
   "outputs": [],
   "source": [
    "import numpy as np"
   ]
  },
  {
   "cell_type": "markdown",
   "metadata": {},
   "source": [
    "## Funções auxiliares"
   ]
  },
  {
   "cell_type": "code",
   "execution_count": 2,
   "metadata": {},
   "outputs": [],
   "source": [
    "def montante_juros_simples(C, taxa, tempo):\n",
    "    return C + C*taxa*tempo"
   ]
  },
  {
   "cell_type": "code",
   "execution_count": 3,
   "metadata": {},
   "outputs": [],
   "source": [
    "def quantia_para_retorno(M, taxa, tempo):\n",
    "    return M/(1+taxa*tempo)"
   ]
  },
  {
   "cell_type": "code",
   "execution_count": 4,
   "metadata": {},
   "outputs": [],
   "source": [
    "def montante_juros_compostos(C, taxa, tempo):\n",
    "    return C *((1+taxa)**tempo)"
   ]
  },
  {
   "cell_type": "code",
   "execution_count": 5,
   "metadata": {},
   "outputs": [],
   "source": [
    "def descobre_taxa_juros_compostos(C, M, tempo):\n",
    "    return ((M/C)**(1/tempo))-1"
   ]
  },
  {
   "cell_type": "code",
   "execution_count": 6,
   "metadata": {},
   "outputs": [],
   "source": [
    "def taxa_anual_para_diaria(tx_y):\n",
    "    return tx_y/360"
   ]
  },
  {
   "cell_type": "code",
   "execution_count": 7,
   "metadata": {},
   "outputs": [],
   "source": [
    "def converte_taxa_maior(taxa, dias):  \n",
    "    return (1+taxa_mensal)**(1/dias)-1"
   ]
  },
  {
   "cell_type": "code",
   "execution_count": 8,
   "metadata": {},
   "outputs": [],
   "source": [
    "def converte_taxa_menor(taxa, dias):  \n",
    "    return (1+taxa_mensal)**dias-1"
   ]
  },
  {
   "cell_type": "code",
   "execution_count": 9,
   "metadata": {},
   "outputs": [],
   "source": [
    "def calcula_tax_over(du):  \n",
    "    return (((1+(du/100))**(1/252))-1)*100"
   ]
  },
  {
   "cell_type": "code",
   "execution_count": 10,
   "metadata": {},
   "outputs": [],
   "source": [
    "def retorno_juros_simples(C, taxa, tempo):\n",
    "    return (montante_juros_simples(C, taxa, tempo)-C)"
   ]
  },
  {
   "cell_type": "code",
   "execution_count": 11,
   "metadata": {},
   "outputs": [],
   "source": [
    "def retorno_juros_compostos(C, taxa, tempo):\n",
    "    return (montante_juros_compostos(C, taxa, tempo)-C)"
   ]
  },
  {
   "cell_type": "markdown",
   "metadata": {},
   "source": [
    "## Exercícios"
   ]
  },
  {
   "cell_type": "markdown",
   "metadata": {},
   "source": [
    "1. 01.\tUma instituição financeira paga juros simples de 9% a.a. Aplicando hoje R$1.000.000,00, o Montante ao final de cinco anos será de"
   ]
  },
  {
   "cell_type": "code",
   "execution_count": 12,
   "metadata": {},
   "outputs": [
    {
     "name": "stdout",
     "output_type": "stream",
     "text": [
      "O Montante ao final de cinco anos será de 1450000.0\n",
      "\n",
      "\n",
      "Resposta: e)\n"
     ]
    }
   ],
   "source": [
    "# Montante\n",
    "C = 1e6\n",
    "taxa_anual = 0.09\n",
    "anos = 5\n",
    "M = montante_juros_simples(C, taxa_anual, anos)\n",
    "print(f\"O Montante ao final de cinco anos será de {M}\")\n",
    "print(\"\\n\")\n",
    "print(\"Resposta: e)\")"
   ]
  },
  {
   "cell_type": "markdown",
   "metadata": {},
   "source": [
    "2. Uma instituição financeira paga taxa de juros simples de 2% a.m. A quantia a ser aplicada para que se obtenham R$ 100.000,00 em 2anos deve ser de ."
   ]
  },
  {
   "cell_type": "code",
   "execution_count": 13,
   "metadata": {},
   "outputs": [
    {
     "name": "stdout",
     "output_type": "stream",
     "text": [
      "A quantia a ser aplicada deve ser de 67567.56756756757\n",
      "\n",
      "\n",
      "Resposta: d)\n"
     ]
    }
   ],
   "source": [
    "# Investimento para retorno\n",
    "M=1e5\n",
    "taxa_mensal = 0.02\n",
    "meses = 24\n",
    "C=quantia_para_retorno(M, taxa_mensal, meses)\n",
    "\n",
    "print(f\"A quantia a ser aplicada deve ser de {C}\")\n",
    "print(\"\\n\")\n",
    "print(\"Resposta: d)\")"
   ]
  },
  {
   "cell_type": "markdown",
   "metadata": {},
   "source": [
    "3. Um investidor aplica a quantia de R$ 50.000,00 por 4 dias, no regime de juros simples a uma taxa de 3% a.m. Os rendimentos auferidos no período serão de ."
   ]
  },
  {
   "cell_type": "code",
   "execution_count": 14,
   "metadata": {},
   "outputs": [
    {
     "name": "stdout",
     "output_type": "stream",
     "text": [
      "Os rendimentos auferidos no período serão de 200.0\n",
      "\n",
      "\n",
      "Resposta: b)\n"
     ]
    }
   ],
   "source": [
    "# Montante\n",
    "C = 50000\n",
    "taxa_mensal = 0.03\n",
    "meses = 4/30\n",
    "M = montante_juros_simples(C, taxa_mensal, meses)\n",
    "rendimento = M-C\n",
    "rendimento\n",
    "\n",
    "print(f\"Os rendimentos auferidos no período serão de {rendimento}\")\n",
    "print(\"\\n\")\n",
    "print(\"Resposta: b)\")"
   ]
  },
  {
   "cell_type": "markdown",
   "metadata": {},
   "source": [
    "4. Uma pessoa toma um empréstimo de RS 25.000,00, por 5 meses, com pagamento no final. O custo da operação é de 10% a.m. O montante do empréstimo no final.(j simples e j compostos) será de"
   ]
  },
  {
   "cell_type": "code",
   "execution_count": 15,
   "metadata": {},
   "outputs": [
    {
     "name": "stdout",
     "output_type": "stream",
     "text": [
      "O montante do empréstimo no final será de 37500.0, 40262.750000000015\n",
      "\n",
      "\n",
      "Resposta: a)\n"
     ]
    }
   ],
   "source": [
    "# Montante\n",
    "C = 25000\n",
    "taxa_mensal = 0.1\n",
    "meses = 5\n",
    "M_simples = montante_juros_simples(C, taxa_mensal, meses)\n",
    "M_composto = montante_juros_compostos(C, taxa_mensal, meses)\n",
    "\n",
    "\n",
    "print(f\"O montante do empréstimo no final será de {M_simples}, {M_composto}\")\n",
    "print(\"\\n\")\n",
    "print(\"Resposta: a)\")"
   ]
  },
  {
   "cell_type": "markdown",
   "metadata": {},
   "source": [
    " \n",
    "05.\tUm capital inicial de R$ 60.000,00 é investido por 81 dias. No regime de juros compostos, às taxa de 1.2% a.m. O valor de resgate bruto será de \n"
   ]
  },
  {
   "cell_type": "code",
   "execution_count": 16,
   "metadata": {},
   "outputs": [
    {
     "name": "stdout",
     "output_type": "stream",
     "text": [
      "O valor de resgate bruto será de 61963.88427082662\n",
      "\n",
      "\n",
      "Resposta: c)\n"
     ]
    }
   ],
   "source": [
    "# Montante\n",
    "C = 60000\n",
    "taxa_mensal = 0.012\n",
    "tempo = 81/30\n",
    "M_composto = montante_juros_compostos(C, taxa_mensal, tempo)\n",
    "M_composto\n",
    "\n",
    "print(f\"O valor de resgate bruto será de {M_composto}\")\n",
    "print(\"\\n\")\n",
    "print(\"Resposta: c)\")"
   ]
  },
  {
   "cell_type": "markdown",
   "metadata": {},
   "source": [
    "6.\tUma aplicação de RS 40.000,00 gera um montante de R$ 86.730,00, em 95 dias, regime de juros compostos.A taxa efetiva mensal da operação é de ."
   ]
  },
  {
   "cell_type": "code",
   "execution_count": 17,
   "metadata": {},
   "outputs": [
    {
     "name": "stdout",
     "output_type": "stream",
     "text": [
      "A taxa é de 27.684975161163862 %\n",
      "\n",
      "\n",
      "Resposta: a)\n"
     ]
    }
   ],
   "source": [
    "# Montante\n",
    "C = 40000\n",
    "M = 86730\n",
    "meses = 95/30\n",
    "taxa = descobre_taxa_juros_compostos(C, M, meses)\n",
    "\n",
    "print(f\"A taxa é de {taxa*100} %\")\n",
    "print(\"\\n\")\n",
    "print(\"Resposta: a)\")"
   ]
  },
  {
   "cell_type": "markdown",
   "metadata": {},
   "source": [
    "07.\tA taxa trimestral proporcional à taxa de 21% a.a. é"
   ]
  },
  {
   "cell_type": "code",
   "execution_count": 18,
   "metadata": {},
   "outputs": [
    {
     "name": "stdout",
     "output_type": "stream",
     "text": [
      "A taxa trimestral proporcional à taxa de 21% a.a. é 5.25 %\n",
      "\n",
      "\n",
      "Resposta: e)\n"
     ]
    }
   ],
   "source": [
    "taxa_anual = 0.21\n",
    "taxa_trimestral = taxa_anual/4\n",
    "\n",
    "print(f\"A taxa trimestral proporcional à taxa de 21% a.a. é {taxa_trimestral*100} %\")\n",
    "print(\"\\n\")\n",
    "print(\"Resposta: e)\")"
   ]
  },
  {
   "cell_type": "markdown",
   "metadata": {},
   "source": [
    "08.\tA taxa mensal proporcional à taxa de 36% a.a. é "
   ]
  },
  {
   "cell_type": "code",
   "execution_count": 19,
   "metadata": {},
   "outputs": [
    {
     "name": "stdout",
     "output_type": "stream",
     "text": [
      "A taxa mensal proporcional à taxa de 36% a.a. é 3.0 %\n",
      "\n",
      "\n",
      "Resposta: b)\n"
     ]
    }
   ],
   "source": [
    "taxa_anual = 0.36\n",
    "taxa_mensal = taxa_anual/12\n",
    "\n",
    "print(f\"A taxa mensal proporcional à taxa de 36% a.a. é {taxa_mensal*100} %\")\n",
    "print(\"\\n\")\n",
    "print(\"Resposta: b)\")"
   ]
  },
  {
   "cell_type": "markdown",
   "metadata": {},
   "source": [
    "09.\tA taxa diária equivalente “a taxa de 4% a.m”. é "
   ]
  },
  {
   "cell_type": "code",
   "execution_count": 20,
   "metadata": {},
   "outputs": [
    {
     "name": "stdout",
     "output_type": "stream",
     "text": [
      "A taxa diária equivalente a taxa de 4% a.m. é 0.13082120689500432 %\n",
      "\n",
      "\n",
      "Resposta: d)\n"
     ]
    }
   ],
   "source": [
    "taxa_mensal = 0.04\n",
    "taxa_diaria = converte_taxa_maior(taxa_mensal, 30)\n",
    "\n",
    "print(f\"A taxa diária equivalente a taxa de 4% a.m. é {taxa_diaria*100} %\")\n",
    "print(\"\\n\")\n",
    "print(\"Resposta: d)\")"
   ]
  },
  {
   "cell_type": "markdown",
   "metadata": {},
   "source": [
    " \n",
    "10.\tA  taxa por dia útil equivalente à taxa de 1.5% a.m. (21 dias úteis) é \n"
   ]
  },
  {
   "cell_type": "code",
   "execution_count": 21,
   "metadata": {},
   "outputs": [
    {
     "name": "stdout",
     "output_type": "stream",
     "text": [
      "A  taxa por dia útil equivalente à taxa de 1.5% a.m. (21 dias úteis) é  0.07092329341447101 %\n",
      "\n",
      "\n",
      "Resposta: c)\n"
     ]
    }
   ],
   "source": [
    "taxa_mensal = 0.015\n",
    "taxa_diaria = converte_taxa_maior(taxa_mensal, 21)\n",
    "\n",
    "print(f\"A  taxa por dia útil equivalente à taxa de 1.5% a.m. (21 dias úteis) é  {taxa_diaria*100} %\")\n",
    "print(\"\\n\")\n",
    "print(\"Resposta: c)\")"
   ]
  },
  {
   "cell_type": "markdown",
   "metadata": {},
   "source": [
    "11.\tUma pessoa investe R$ 50.000,00 no mercado financeiro por três meses, obtendo as seguintes rentabilidades efetivas mensais: primeiro mês  5%, segundo mês 8% e no terceiro  mês  10%,  o montante de resgate será de ."
   ]
  },
  {
   "cell_type": "code",
   "execution_count": 22,
   "metadata": {},
   "outputs": [
    {
     "name": "stdout",
     "output_type": "stream",
     "text": [
      "O montante de resgate será de 62370.0\n",
      "\n",
      "\n",
      "Resposta: e)\n"
     ]
    }
   ],
   "source": [
    "C = 50000\n",
    "ganhos = [0.05,0.08,0.1]\n",
    "result=C\n",
    "for g in ganhos:\n",
    "    result+=result*g\n",
    "\n",
    "\n",
    "print(f\"O montante de resgate será de {result}\")\n",
    "print(\"\\n\")\n",
    "print(\"Resposta: e)\")"
   ]
  },
  {
   "cell_type": "markdown",
   "metadata": {},
   "source": [
    "12.\tUma operação interbancária com principal de RS1. 000.000,00 é realizada por 5 dias úteis. As taxas over ano da operação são as seguintes: 15,25% a.a., 15,30% a.a., 15,40% a.a., 15,45% a.a., 15,50% a.a. O montante da operação será de"
   ]
  },
  {
   "cell_type": "code",
   "execution_count": 24,
   "metadata": {
    "scrolled": true
   },
   "outputs": [
    {
     "name": "stdout",
     "output_type": "stream",
     "text": [
      "O montante da operação será de 1003052.9736581815\n",
      "\n",
      "\n",
      "Resposta: a)\n"
     ]
    }
   ],
   "source": [
    "# precisa corrigir\n",
    "C = 1e6\n",
    "taxas=[0.1525,0.1530,0.1540,0.1545,0.155]\n",
    "result=C\n",
    "for t in taxas:\n",
    "    result=montante_juros_simples(result,calcula_tax_over(t),1 )\n",
    "\n",
    "print(f\"O montante da operação será de {result}\")\n",
    "print(\"\\n\")\n",
    "print(\"Resposta: a)\")"
   ]
  },
  {
   "cell_type": "markdown",
   "metadata": {},
   "source": [
    "Um indivíduo aplicou no mercado financeiro no início de janeiro de 200X a quantia de RS 500.000,00 e resgatou, no final de abril do mesmo ano, o valor de RS 1.200.000,00.\n",
    "As taxas de inflação mensal do período. Foram: JAN 16,51%, FEV 17,96%, MAR 16,01%, ABR 19,28%.\n",
    "\n",
    "13.\tA taxa da operação no período  foi de :\n"
   ]
  },
  {
   "cell_type": "code",
   "execution_count": 26,
   "metadata": {},
   "outputs": [],
   "source": [
    "quantia_i = 500000\n",
    "resgatou = 1200000"
   ]
  },
  {
   "cell_type": "code",
   "execution_count": 27,
   "metadata": {},
   "outputs": [
    {
     "name": "stdout",
     "output_type": "stream",
     "text": [
      "A taxa da operação no período foi de 140.0 %\n",
      "\n",
      "\n",
      "Resposta b)\n"
     ]
    }
   ],
   "source": [
    "resultado_op = ((resgatou/quantia_i)-1)*100\n",
    "\n",
    "print(f\"A taxa da operação no período foi de {resultado_op} %\" )\n",
    "print(\"\\n\")\n",
    "print(\"Resposta b)\")"
   ]
  },
  {
   "cell_type": "markdown",
   "metadata": {},
   "source": [
    "14.\tA taxa de inflação acumulada foi de:"
   ]
  },
  {
   "cell_type": "code",
   "execution_count": 28,
   "metadata": {},
   "outputs": [
    {
     "name": "stdout",
     "output_type": "stream",
     "text": [
      "A taxa da operação no período foi de 90.17832734518687 %\n",
      "\n",
      "\n",
      "Resposta d)\n"
     ]
    }
   ],
   "source": [
    "taxa_acc = (1.1651*1.1796*1.1601*1.1928-1)*100\n",
    "\n",
    "print(f\"A taxa da operação no período foi de {taxa_acc} %\" )\n",
    "print(\"\\n\")\n",
    "print(\"Resposta d)\")"
   ]
  },
  {
   "cell_type": "markdown",
   "metadata": {},
   "source": [
    "15.\tA taxa real de retorno (período) foi de:"
   ]
  },
  {
   "cell_type": "markdown",
   "metadata": {},
   "source": [
    "- R: taxa de juros real\n",
    "\n",
    "- r: taxa nominal\n",
    "\n",
    "- pi: inflação"
   ]
  },
  {
   "cell_type": "code",
   "execution_count": 30,
   "metadata": {},
   "outputs": [
    {
     "name": "stdout",
     "output_type": "stream",
     "text": [
      "Resultado: 26.197345065709477 %\n"
     ]
    }
   ],
   "source": [
    "real = ((1+resultado_op/100)/(1+taxa_acc/100)-1)\n",
    "print(f\"Resultado: {real*100} %\")"
   ]
  },
  {
   "cell_type": "markdown",
   "metadata": {},
   "source": [
    "16.\tO montante da operação, considerando-se juros de 14% a.a. (juros simples, base 365) será de "
   ]
  },
  {
   "cell_type": "code",
   "execution_count": 31,
   "metadata": {},
   "outputs": [
    {
     "name": "stdout",
     "output_type": "stream",
     "text": [
      "O montante da operação, considerando-se juros de 14% a.a. (juros simples, base 365) será de 1016109.5890410959\n",
      "\n",
      "\n",
      "Resposta e)\n"
     ]
    }
   ],
   "source": [
    "t = 42\n",
    "i = ((14/100)/365)\n",
    "C = 1000000\n",
    "\n",
    "j = C*i*t\n",
    "\n",
    "print(f\"O montante da operação, considerando-se juros de 14% a.a. (juros simples, base 365) será de {C+j}\" )\n",
    "print(\"\\n\")\n",
    "print(\"Resposta e)\")"
   ]
  },
  {
   "cell_type": "markdown",
   "metadata": {},
   "source": [
    "17.\tO montante da operação, considerando-se juros de 16% a.a., (juros compostos, base 360) será de"
   ]
  },
  {
   "cell_type": "code",
   "execution_count": 32,
   "metadata": {},
   "outputs": [
    {
     "name": "stdout",
     "output_type": "stream",
     "text": [
      "O desconto foi de 1017.466452488498\n",
      "\n",
      "\n",
      "Resposta: d)\n"
     ]
    }
   ],
   "source": [
    "C = 1000\n",
    "tempo = 42/360\n",
    "taxa = 0.16\n",
    "M = montante_juros_compostos(C, taxa, tempo)\n",
    "\n",
    "print(f\"O desconto foi de {M}\")\n",
    "print(\"\\n\")\n",
    "print(\"Resposta: d)\")"
   ]
  },
  {
   "cell_type": "markdown",
   "metadata": {},
   "source": [
    "18.\tO desconto foi de"
   ]
  },
  {
   "cell_type": "code",
   "execution_count": 33,
   "metadata": {},
   "outputs": [
    {
     "name": "stdout",
     "output_type": "stream",
     "text": [
      "O montante da operação será de 900.0\n",
      "\n",
      "\n",
      "Resposta: d)\n"
     ]
    }
   ],
   "source": [
    "duplicata = 18000\n",
    "taxa_desc = (2.5/100)*2 # 2 meses, sendo a taxa de desconto 2.5% a.m.\n",
    "\n",
    "desconto = duplicata*taxa_desc\n",
    "\n",
    "print(f\"O montante da operação será de {desconto}\")\n",
    "print(\"\\n\")\n",
    "print(\"Resposta: d)\")"
   ]
  },
  {
   "cell_type": "markdown",
   "metadata": {},
   "source": [
    "19. O valor descontado dessa operação foi de"
   ]
  },
  {
   "cell_type": "code",
   "execution_count": 34,
   "metadata": {},
   "outputs": [
    {
     "name": "stdout",
     "output_type": "stream",
     "text": [
      "O valor descontado dessa operação foi de 17100.0\n",
      "\n",
      "\n",
      "Resposta: b)\n"
     ]
    }
   ],
   "source": [
    "valor_descontado = duplicata - desconto\n",
    "\n",
    "print(f\"O valor descontado dessa operação foi de {valor_descontado}\")\n",
    "print(\"\\n\")\n",
    "print(\"Resposta: b)\")"
   ]
  },
  {
   "cell_type": "markdown",
   "metadata": {},
   "source": [
    "20. A  taxa efetiva da operação foi de   "
   ]
  },
  {
   "cell_type": "code",
   "execution_count": 35,
   "metadata": {},
   "outputs": [
    {
     "name": "stdout",
     "output_type": "stream",
     "text": [
      "A  taxa efetiva da operação foi de 0.05263157894736836\n",
      "\n",
      "\n",
      "Resposta: c)\n"
     ]
    }
   ],
   "source": [
    "taxa_efet = (duplicata/valor_descontado) - 1\n",
    "\n",
    "print(f\"A  taxa efetiva da operação foi de {taxa_efet}\")\n",
    "print(\"\\n\")\n",
    "print(\"Resposta: c)\")"
   ]
  },
  {
   "cell_type": "code",
   "execution_count": null,
   "metadata": {},
   "outputs": [],
   "source": []
  }
 ],
 "metadata": {
  "kernelspec": {
   "display_name": "Python 3",
   "language": "python",
   "name": "python3"
  },
  "language_info": {
   "codemirror_mode": {
    "name": "ipython",
    "version": 3
   },
   "file_extension": ".py",
   "mimetype": "text/x-python",
   "name": "python",
   "nbconvert_exporter": "python",
   "pygments_lexer": "ipython3",
   "version": "3.8.10"
  }
 },
 "nbformat": 4,
 "nbformat_minor": 4
}
