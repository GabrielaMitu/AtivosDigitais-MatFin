{
 "cells": [
  {
   "cell_type": "markdown",
   "metadata": {},
   "source": [
    "## Lista de Exercícios"
   ]
  },
  {
   "cell_type": "markdown",
   "metadata": {},
   "source": [
    "**Alunos:** Beatriz, Gabriela Mitu, Gabriella Cukier, Leonardo Malta"
   ]
  },
  {
   "cell_type": "markdown",
   "metadata": {},
   "source": [
    "## Bibliotecas"
   ]
  },
  {
   "cell_type": "code",
   "execution_count": null,
   "metadata": {},
   "outputs": [],
   "source": []
  },
  {
   "cell_type": "markdown",
   "metadata": {},
   "source": [
    "## Exercicio 1"
   ]
  },
  {
   "cell_type": "markdown",
   "metadata": {},
   "source": [
    "**Fórmula: J = C.i.n**"
   ]
  },
  {
   "cell_type": "markdown",
   "metadata": {},
   "source": [
    "J = juros\n",
    "\n",
    "C = capital\n",
    "\n",
    "taxa = taxa de empréstimo\n",
    "\n",
    "n = períodos"
   ]
  },
  {
   "cell_type": "code",
   "execution_count": 8,
   "metadata": {},
   "outputs": [
    {
     "name": "stdout",
     "output_type": "stream",
     "text": [
      "o Montante ao final de cinco anos será de 1450000.0\n",
      "\n",
      "\n",
      "Resposta e)\n"
     ]
    }
   ],
   "source": [
    "# Calcula o juros simples\n",
    "def juros_simples(C, taxa, n):\n",
    "    return C*taxa*n;\n",
    "\n",
    "C_var = 1000000\n",
    "taxa_var = 0.09\n",
    "n_var = 5\n",
    "\n",
    "J = juros_simples(C_var, taxa_var, n_var)\n",
    "print(f\"o Montante ao final de cinco anos será de {C_var+J}\", )\n",
    "print(\"\\n\")\n",
    "print(\"Resposta e)\")"
   ]
  },
  {
   "cell_type": "markdown",
   "metadata": {},
   "source": [
    "## Exercicio 2"
   ]
  },
  {
   "cell_type": "markdown",
   "metadata": {},
   "source": [
    "**Fórmula: C = J/(i.n)**"
   ]
  },
  {
   "cell_type": "code",
   "execution_count": 21,
   "metadata": {},
   "outputs": [
    {
     "name": "stdout",
     "output_type": "stream",
     "text": [
      "208333.33333333334\n",
      "A quantia a ser aplicada para que se obtenham R$100.000,00 em 2anos deve ser de -108333.33333333334\n",
      "\n",
      "\n",
      "Resposta e)\n"
     ]
    }
   ],
   "source": [
    "# Calcula da quantia a ser aplicada\n",
    "def quantia_aplicada(J, taxa, n):\n",
    "    return J/(taxa*n);\n",
    "\n",
    "montante_final = 100000.00\n",
    "taxa_var = 0.02\n",
    "n_var = 24\n",
    "\n",
    "C_var = quantia_aplicada(montante_final, taxa_var, n_var)\n",
    "print(C_var)\n",
    "\n",
    "#montante = montante_final * pow((1 + taxa_var), n_var) \n",
    "\n",
    "print(f\"A quantia a ser aplicada para que se obtenham R$100.000,00 em 2anos deve ser de {montante_final-C_var}\")\n",
    "print(\"\\n\")\n",
    "print(\"Resposta e)\")"
   ]
  },
  {
   "cell_type": "markdown",
   "metadata": {},
   "source": [
    "## Exercício 12"
   ]
  },
  {
   "cell_type": "code",
   "execution_count": null,
   "metadata": {},
   "outputs": [],
   "source": [
    "operacao = 1000000\n"
   ]
  },
  {
   "cell_type": "markdown",
   "metadata": {},
   "source": [
    "## Exercício 13"
   ]
  },
  {
   "cell_type": "code",
   "execution_count": 4,
   "metadata": {},
   "outputs": [],
   "source": [
    "quantia_i = 500000\n",
    "resgatou = 1200000"
   ]
  },
  {
   "cell_type": "code",
   "execution_count": 9,
   "metadata": {},
   "outputs": [
    {
     "name": "stdout",
     "output_type": "stream",
     "text": [
      "A taxa da operação no período foi de 140.0\n",
      "\n",
      "\n",
      "Resposta b)\n"
     ]
    }
   ],
   "source": [
    "resultado = ((resgatou/quantia_i)-1)*100\n",
    "\n",
    "print(f\"A taxa da operação no período foi de {resultado}\" )\n",
    "print(\"\\n\")\n",
    "print(\"Resposta b)\")"
   ]
  },
  {
   "cell_type": "markdown",
   "metadata": {},
   "source": [
    "## Exercício 15"
   ]
  },
  {
   "cell_type": "markdown",
   "metadata": {},
   "source": [
    "R sendo a taxa de juros real\n",
    "\n",
    "r sendo a taxa nominal\n",
    "\n",
    "\n",
    "pi a inflação"
   ]
  },
  {
   "cell_type": "code",
   "execution_count": 14,
   "metadata": {},
   "outputs": [
    {
     "data": {
      "text/plain": [
       "0.9017832734518687"
      ]
     },
     "execution_count": 14,
     "metadata": {},
     "output_type": "execute_result"
    }
   ],
   "source": [
    "PI=(1.1651)*(1.1796)*(1.1601)*(1.1928) - 1\n",
    "PI"
   ]
  },
  {
   "cell_type": "code",
   "execution_count": 26,
   "metadata": {},
   "outputs": [
    {
     "data": {
      "text/plain": [
       "0.26315789473684204"
      ]
     },
     "execution_count": 26,
     "metadata": {},
     "output_type": "execute_result"
    }
   ],
   "source": [
    "R = ((1 + 1.4)/(1 + 0.9)) - 1\n",
    "\n",
    "R"
   ]
  },
  {
   "cell_type": "markdown",
   "metadata": {},
   "source": [
    "## Exercício 16"
   ]
  },
  {
   "cell_type": "code",
   "execution_count": 74,
   "metadata": {},
   "outputs": [
    {
     "name": "stdout",
     "output_type": "stream",
     "text": [
      "O montante da operação, considerando-se juros de 14% a.a. (juros simples, base 365) será de 1016109.5890410959\n",
      "\n",
      "\n",
      "Resposta e)\n"
     ]
    }
   ],
   "source": [
    "aplicacao = 1000000\n",
    "j1 = (14/100)/365\n",
    "dias_42 = 42*j1\n",
    "j2 = dias_42*aplicacao\n",
    "resultado = aplicacao+j2\n",
    "\n",
    "print(f\"O montante da operação, considerando-se juros de 14% a.a. (juros simples, base 365) será de {resultado}\" )\n",
    "print(\"\\n\")\n",
    "print(\"Resposta e)\")"
   ]
  },
  {
   "cell_type": "markdown",
   "metadata": {},
   "source": [
    "**Os.:** Outra forma:"
   ]
  },
  {
   "cell_type": "code",
   "execution_count": 79,
   "metadata": {},
   "outputs": [
    {
     "name": "stdout",
     "output_type": "stream",
     "text": [
      "O montante da operação, considerando-se juros de 14% a.a. (juros simples, base 365) será de 1016109.5890410959\n",
      "\n",
      "\n",
      "Resposta e)\n"
     ]
    }
   ],
   "source": [
    "t = 42\n",
    "i = ((14/100)/365)\n",
    "C = 1000000\n",
    "\n",
    "j = C*i*t\n",
    "\n",
    "print(f\"O montante da operação, considerando-se juros de 14% a.a. (juros simples, base 365) será de {C+j}\" )\n",
    "print(\"\\n\")\n",
    "print(\"Resposta e)\")"
   ]
  },
  {
   "cell_type": "markdown",
   "metadata": {},
   "source": [
    "## Exercício 17"
   ]
  },
  {
   "cell_type": "code",
   "execution_count": 93,
   "metadata": {},
   "outputs": [
    {
     "name": "stdout",
     "output_type": "stream",
     "text": [
      "O montante da operação, considerando-se juros de 16% a.a. (juros compostos, base 360) será de 1018837.7529692334\n",
      "\n",
      "\n",
      "Resposta d)\n"
     ]
    }
   ],
   "source": [
    "t = 42\n",
    "i = ((16/100)/360)\n",
    "C = 1000000\n",
    "\n",
    "M = C*(1+i)**t\n",
    "j = M-C\n",
    "\n",
    "print(f\"O montante da operação, considerando-se juros de 16% a.a. (juros compostos, base 360) será de {C+j}\" )\n",
    "print(\"\\n\")\n",
    "print(\"Resposta d)\")"
   ]
  },
  {
   "cell_type": "code",
   "execution_count": 65,
   "metadata": {},
   "outputs": [
    {
     "name": "stdout",
     "output_type": "stream",
     "text": [
      "O montante da operação, considerando-se juros de 14% a.a. (juros simples, base 365) será de 1018666.6666666666\n",
      "\n",
      "\n",
      "Resposta d)\n"
     ]
    }
   ],
   "source": [
    "aplicacao = 1000000\n",
    "j = (16/100)/360\n",
    "dias_42 = 42*j\n",
    "quant = dias_42*aplicacao\n",
    "resultado = aplicacao+quant\n",
    "\n",
    "print(f\"O montante da operação, considerando-se juros de 16% a.a. (juros compostos, base 360) será de {resultado}\" )\n",
    "print(\"\\n\")\n",
    "print(\"Resposta d)\")"
   ]
  },
  {
   "cell_type": "code",
   "execution_count": 70,
   "metadata": {},
   "outputs": [
    {
     "name": "stdout",
     "output_type": "stream",
     "text": [
      "O montante da operação, considerando-se juros de 14% a.a. (juros simples, base 365) será de 1000000.0\n",
      "\n",
      "\n",
      "Resposta e)\n"
     ]
    }
   ],
   "source": [
    "aplicacao = 1000000\n",
    "j = ((14/100)/365)**(42)\n",
    "dias_42 = 42*j\n",
    "quant = dias_42*aplicacao\n",
    "resultado = aplicacao+quant\n",
    "\n",
    "print(f\"O montante da operação, considerando-se juros de 14% a.a. (juros simples, base 365) será de {resultado}\" )\n",
    "print(\"\\n\")\n",
    "print(\"Resposta e)\")"
   ]
  },
  {
   "cell_type": "code",
   "execution_count": null,
   "metadata": {},
   "outputs": [],
   "source": []
  },
  {
   "cell_type": "code",
   "execution_count": 109,
   "metadata": {},
   "outputs": [],
   "source": [
    "aplicacao = 1000000\n",
    "\n",
    "j = (16/100)/360\n",
    "meses = (42*12)/360"
   ]
  },
  {
   "cell_type": "code",
   "execution_count": 111,
   "metadata": {},
   "outputs": [
    {
     "name": "stdout",
     "output_type": "stream",
     "text": [
      "O montante final foi de: R$ 1000006.22.\n",
      "Os juros foram de: R$ 6.22\n"
     ]
    }
   ],
   "source": [
    "def calc_juros_compostos(principal, periodo, juros): \n",
    "    montante = principal * ((1 + juros/100)**periodo)\n",
    "    juros = montante-principal\n",
    "\n",
    "    return print(\"O montante final foi de: \" + str(\"R$ %.2f\" % montante)+\".\\nOs juros foram de: \"+ str(\"R$ %.2f\" % juros))\n",
    "\n",
    "calc_juros_compostos(aplicacao, meses, j)"
   ]
  },
  {
   "cell_type": "markdown",
   "metadata": {},
   "source": [
    "## Exercício 18"
   ]
  },
  {
   "cell_type": "code",
   "execution_count": 27,
   "metadata": {},
   "outputs": [
    {
     "name": "stdout",
     "output_type": "stream",
     "text": [
      "O desconto foi de 900.0\n",
      "\n",
      "\n",
      "Resposta: d)\n"
     ]
    }
   ],
   "source": [
    "duplicata = 18000\n",
    "taxa_desc = (2.5/100)*2 # 2 meses, sendo a taxa de desconto 2.5% a.m.\n",
    "\n",
    "desconto = duplicata*taxa_desc\n",
    "print(f\"O desconto foi de {desconto}\")\n",
    "print(\"\\n\")\n",
    "print(\"Resposta: d)\")"
   ]
  },
  {
   "cell_type": "markdown",
   "metadata": {},
   "source": [
    "## Exercício 19"
   ]
  },
  {
   "cell_type": "code",
   "execution_count": 101,
   "metadata": {},
   "outputs": [
    {
     "name": "stdout",
     "output_type": "stream",
     "text": [
      "O valor descontado dessa operação foi de 17100.0\n",
      "\n",
      "\n",
      "Resposta: b)\n"
     ]
    }
   ],
   "source": [
    "valor_descontado = duplicata - desconto\n",
    "\n",
    "print(f\"O valor descontado dessa operação foi de {valor_descontado}\")\n",
    "print(\"\\n\")\n",
    "print(\"Resposta: b)\")"
   ]
  },
  {
   "cell_type": "markdown",
   "metadata": {},
   "source": [
    "## Exercício 20"
   ]
  },
  {
   "cell_type": "code",
   "execution_count": 103,
   "metadata": {},
   "outputs": [
    {
     "name": "stdout",
     "output_type": "stream",
     "text": [
      "A  taxa efetiva da operação foi de 0.05263157894736836\n",
      "\n",
      "\n",
      "Resposta: c)\n"
     ]
    }
   ],
   "source": [
    "taxa_efet = (duplicata/valor_descontado) - 1\n",
    "\n",
    "print(f\"A  taxa efetiva da operação foi de {taxa_efet}\")\n",
    "print(\"\\n\")\n",
    "print(\"Resposta: c)\")"
   ]
  }
 ],
 "metadata": {
  "kernelspec": {
   "display_name": "Python 3",
   "language": "python",
   "name": "python3"
  },
  "language_info": {
   "codemirror_mode": {
    "name": "ipython",
    "version": 3
   },
   "file_extension": ".py",
   "mimetype": "text/x-python",
   "name": "python",
   "nbconvert_exporter": "python",
   "pygments_lexer": "ipython3",
   "version": "3.8.5"
  }
 },
 "nbformat": 4,
 "nbformat_minor": 4
}
